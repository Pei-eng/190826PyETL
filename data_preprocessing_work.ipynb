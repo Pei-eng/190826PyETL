{
  "nbformat": 4,
  "nbformat_minor": 0,
  "metadata": {
    "colab": {
      "provenance": [],
      "collapsed_sections": [],
      "include_colab_link": true
    },
    "kernelspec": {
      "name": "python3",
      "display_name": "Python 3"
    }
  },
  "cells": [
    {
      "cell_type": "markdown",
      "metadata": {
        "id": "view-in-github",
        "colab_type": "text"
      },
      "source": [
        "<a href=\"https://colab.research.google.com/github/Pei-eng/190826PyETL/blob/master/data_preprocessing_work.ipynb\" target=\"_parent\"><img src=\"https://colab.research.google.com/assets/colab-badge.svg\" alt=\"Open In Colab\"/></a>"
      ]
    },
    {
      "cell_type": "markdown",
      "metadata": {
        "id": "WOw8yMd1VlnD"
      },
      "source": [
        "# *Data Preprocessing Template*\n"
      ]
    },
    {
      "cell_type": "code",
      "source": [
        "from google.colab import drive\n",
        "drive.mount('/content/drive')"
      ],
      "metadata": {
        "colab": {
          "base_uri": "https://localhost:8080/"
        },
        "id": "5ApinjIn5PP8",
        "outputId": "d6854681-162b-42f8-f59e-82c787714c49"
      },
      "execution_count": null,
      "outputs": [
        {
          "output_type": "stream",
          "name": "stdout",
          "text": [
            "Mounted at /content/drive\n"
          ]
        }
      ]
    },
    {
      "cell_type": "markdown",
      "metadata": {
        "id": "NvUGC8QQV6bV"
      },
      "source": [
        "## **Importing the libraries**\n",
        "\n"
      ]
    },
    {
      "cell_type": "code",
      "metadata": {
        "id": "wfFEXZC0WS-V"
      },
      "source": [
        "import numpy as np\n",
        "import matplotlib.pyplot as plt\n",
        "import pandas as pd"
      ],
      "execution_count": 2,
      "outputs": []
    },
    {
      "cell_type": "markdown",
      "source": [
        "\n",
        "\n",
        "\n",
        "> \n",
        "\n",
        "*   *數值與科學運算*: **SciPy**, **NumPy**\n",
        "*   *統計分析*: **StatsModels**\n",
        "\n",
        "*   *機器學習*: **scikit-learn**\n",
        "*   *資料視學化*: **matplotlib**,**seaborn**\n",
        "\n",
        "> *Numpy*: \n",
        "\n",
        "*   提供非常高效能的**多維陣列 (multi-dimensional array) 數學函式庫**\n",
        "*   可**整合 C/C++ 及 Fortran 的程式碼**\n",
        "\n",
        "*   **線性代數 (Linear Algebra) 及傅立葉轉換 (Fourier Transform)** 能力\n",
        "*   利用**NumPy Array 替代 Python List**\n",
        "\n",
        "*   可**定義任意的數據型態 (Data Type)**，使得能輕易及無縫的**與多種資料庫整合**\n",
        "\n",
        "   ( https://simplelearn.tw/2022/09/01/hello-numpy%EF%BC%81%EF%BD%9Cnumpy-%E5%85%A5%E9%96%80%E8%A9%B3%E7%B4%B0%E4%BB%8B%E7%B4%B9-2022%E6%9B%B4%E6%96%B0%E7%89%88/ )\n",
        "\n",
        "\n",
        "\n",
        "> *Matplotlib*: \n",
        "\n",
        "*  **Python 2D 繪圖庫，繪圖、圖表呈現及數據表示**非常重要的一個綜合函式庫 \n",
        "  (Library)\n",
        "  \n",
        "  ( https://simplelearn.tw/2022/09/11/hello-matplotlib%EF%BC%81%EF%BD%9Cmatplotlib-%E5%85%A5%E9%96%80%E8%A9%B3%E7%B4%B0%E4%BB%8B%E7%B4%B9-2022%E6%9B%B4%E6%96%B0%E7%89%88 )\n",
        "  \n",
        "\n",
        "\n",
        "> *Pandas*: \n",
        "\n",
        "\n",
        "*  Python界的**Excel試算表**, 結合**NumPy（Numerical Python的簡稱）的特性**，以及**試算表和關連式資料庫（SQL）的資料操作能力**，可以用來**對資料進行重構、切割、聚合及選擇子集合等操作**\n",
        "   \n",
        "   ( https://medium.com/seaniap/pandas%E5%9F%BA%E7%A4%8E%E4%BB%8B%E7%B4%B9-%E9%80%B2%E5%85%A5%E8%B3%87%E6%96%99%E7%A7%91%E5%AD%B8%E7%9A%84%E9%A0%98%E5%9F%9F-be9894b3548 )\n",
        "\n",
        "\n",
        "\n",
        "\n",
        "\n",
        "\n",
        "\n",
        "\n",
        "\n",
        "\n",
        "\n",
        "\n",
        "\n",
        "\n",
        "\n",
        "\n"
      ],
      "metadata": {
        "id": "NKU1Dy1JKmIQ"
      }
    },
    {
      "cell_type": "markdown",
      "metadata": {
        "id": "fhYaZ-ENV_c5"
      },
      "source": [
        "## **Importing the dataset**"
      ]
    },
    {
      "cell_type": "code",
      "metadata": {
        "id": "aqHTg9bxWT_u"
      },
      "source": [
        "dataset = pd.read_csv('Data.csv')\n",
        "X = dataset.iloc[:, :-1].values # iloc(index: 0 ~ ∞, -1: last columns)[<rows>,<columns>]\n",
        "Y = dataset.iloc[:, -1].values"
      ],
      "execution_count": 4,
      "outputs": []
    },
    {
      "cell_type": "code",
      "source": [
        "print(X)"
      ],
      "metadata": {
        "colab": {
          "base_uri": "https://localhost:8080/"
        },
        "id": "8iZ_m0A16mGJ",
        "outputId": "61deec8c-c39f-4b57-bd8c-d2c500300dd3"
      },
      "execution_count": 5,
      "outputs": [
        {
          "output_type": "stream",
          "name": "stdout",
          "text": [
            "[['France' 44.0 72000.0]\n",
            " ['Spain' 27.0 48000.0]\n",
            " ['Germany' 30.0 54000.0]\n",
            " ['Spain' 38.0 61000.0]\n",
            " ['Germany' 40.0 nan]\n",
            " ['France' 35.0 58000.0]\n",
            " ['Spain' nan 52000.0]\n",
            " ['France' 48.0 79000.0]\n",
            " ['Germany' 50.0 83000.0]\n",
            " ['France' 37.0 67000.0]]\n"
          ]
        }
      ]
    },
    {
      "cell_type": "code",
      "source": [
        "print(Y)"
      ],
      "metadata": {
        "colab": {
          "base_uri": "https://localhost:8080/"
        },
        "id": "bKiX4PWS6ogW",
        "outputId": "a2344202-12df-4aca-ee21-4a17b540b79f"
      },
      "execution_count": 6,
      "outputs": [
        {
          "output_type": "stream",
          "name": "stdout",
          "text": [
            "['No' 'Yes' 'No' 'No' 'Yes' 'Yes' 'No' 'Yes' 'No' 'Yes']\n"
          ]
        }
      ]
    },
    {
      "cell_type": "markdown",
      "source": [
        "## **Taking care of missing data**"
      ],
      "metadata": {
        "id": "ts14uIz_IFRC"
      }
    },
    {
      "cell_type": "code",
      "source": [
        "from sklearn.impute import SimpleImputer\n",
        "imputer = SimpleImputer(missing_values=np.nan, strategy='mean')\n",
        "imputer.fit(X[:, 1:3])\n",
        "X[:, 1:3] = imputer.transform(X[:, 1:3])"
      ],
      "metadata": {
        "id": "YUm05QiY1RHn"
      },
      "execution_count": 7,
      "outputs": []
    },
    {
      "cell_type": "code",
      "source": [
        "print(X)"
      ],
      "metadata": {
        "colab": {
          "base_uri": "https://localhost:8080/"
        },
        "id": "XFV7i1d47AH1",
        "outputId": "cf7165b8-d2a9-49ff-c109-ac5ab7471248"
      },
      "execution_count": 8,
      "outputs": [
        {
          "output_type": "stream",
          "name": "stdout",
          "text": [
            "[['France' 44.0 72000.0]\n",
            " ['Spain' 27.0 48000.0]\n",
            " ['Germany' 30.0 54000.0]\n",
            " ['Spain' 38.0 61000.0]\n",
            " ['Germany' 40.0 63777.77777777778]\n",
            " ['France' 35.0 58000.0]\n",
            " ['Spain' 38.77777777777778 52000.0]\n",
            " ['France' 48.0 79000.0]\n",
            " ['Germany' 50.0 83000.0]\n",
            " ['France' 37.0 67000.0]]\n"
          ]
        }
      ]
    },
    {
      "cell_type": "markdown",
      "metadata": {
        "id": "3abSxRqvWEIB"
      },
      "source": [
        "## **Splitting the dataset into the Training set and Test set**"
      ]
    },
    {
      "cell_type": "code",
      "metadata": {
        "id": "hm48sif-WWsh"
      },
      "source": [
        "from sklearn.model_selection import train_test_split\n",
        "X_train, X_test, y_train, y_test = train_test_split(X, y, test_size = 0.2, random_state = 0)"
      ],
      "execution_count": null,
      "outputs": []
    }
  ]
}